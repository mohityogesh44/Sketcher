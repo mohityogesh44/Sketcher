{
 "cells": [
  {
   "cell_type": "code",
   "execution_count": null,
   "id": "735bb12a",
   "metadata": {},
   "outputs": [],
   "source": [
    "import cv2\n",
    "import numpy as np\n",
    "\n",
    "def sketch(image):\n",
    "    \n",
    "    img_gray = cv2.cvtColor(image,cv2.COLOR_BGR2GRAY)\n",
    "    \n",
    "    img_blur = cv2.GaussianBlur(img_gray, (3,3),0)\n",
    "    \n",
    "    canny_edge = cv2.Canny(img_blur,10,50)\n",
    "    \n",
    "    ret, mask = cv2.threshold(canny_edge,50,255,cv2.THRESH_BINARY_INV)\n",
    "    \n",
    "    return mask\n",
    "\n",
    "vid = cv2.VideoCapture(0)\n",
    "\n",
    "while True:\n",
    "    \n",
    "    ret, frame = vid.read()\n",
    "    \n",
    "    cv2.imshow(\"Live Sketching\", sketch(frame))\n",
    "    \n",
    "    if cv2.waitKey(1)==13:\n",
    "        break\n",
    "vid.release()\n",
    "cv2.destroyAllWindows()"
   ]
  }
 ],
 "metadata": {
  "kernelspec": {
   "display_name": "Python 3 (ipykernel)",
   "language": "python",
   "name": "python3"
  },
  "language_info": {
   "codemirror_mode": {
    "name": "ipython",
    "version": 3
   },
   "file_extension": ".py",
   "mimetype": "text/x-python",
   "name": "python",
   "nbconvert_exporter": "python",
   "pygments_lexer": "ipython3",
   "version": "3.7.0"
  }
 },
 "nbformat": 4,
 "nbformat_minor": 5
}
